{
 "cells": [
  {
   "cell_type": "code",
   "execution_count": 1,
   "id": "366a7347",
   "metadata": {},
   "outputs": [],
   "source": [
    "import os\n",
    "from glob import glob\n",
    "import torch\n",
    "\n",
    "from torchvision import disable_beta_transforms_warning\n",
    "disable_beta_transforms_warning()\n",
    "\n",
    "from torchvision.transforms import v2, InterpolationMode\n",
    "from torchvision.io import read_image, write_file, write_jpeg, write_png\n",
    "from tqdm import tqdm"
   ]
  },
  {
   "cell_type": "code",
   "execution_count": 3,
   "id": "51f71aa7",
   "metadata": {},
   "outputs": [
    {
     "name": "stderr",
     "output_type": "stream",
     "text": [
      "  0%|                                                                                            | 0/6 [00:00<?, ?it/s]C:\\Users\\ajayd\\anaconda3\\Lib\\site-packages\\torchvision\\transforms\\functional.py:1603: UserWarning: The default value of the antialias parameter of all the resizing transforms (Resize(), RandomResizedCrop(), etc.) will change from None to True in v0.17, in order to be consistent across the PIL and Tensor backends. To suppress this warning, directly pass antialias=True (recommended, future default), antialias=None (current default, which means False for Tensors and True for PIL), or antialias=False (only works on Tensors - PIL will still use antialiasing). This also applies if you are using the inference transforms from the models weights: update the call to weights.transforms(antialias=True).\n",
      "  warnings.warn(\n",
      "100%|████████████████████████████████████████████████████████████████████████████████████| 6/6 [00:50<00:00,  8.38s/it]\n"
     ]
    }
   ],
   "source": [
    "data_path = glob('images/*')\n",
    "\n",
    "transforms = v2.Compose([\n",
    "    v2.RandomApply([\n",
    "                    v2.ColorJitter(brightness = (.6, 1), contrast = (.65, .9), saturation = (0.3, 1), hue = (-.5, .5)),\n",
    "                    v2.GaussianBlur(kernel_size = (9, 9), sigma = 1, )\n",
    "                ]),\n",
    "    v2.RandomHorizontalFlip(p = 0.5),\n",
    "    v2.RandomAffine(degrees = (-20, 20), scale = (.8, 1.2), translate = (0, .1)),\n",
    "    v2.Resize((256, 256), InterpolationMode.BICUBIC)\n",
    "])\n",
    "\n",
    "for folder_path in tqdm(data_path):\n",
    "    folder_class = folder_path.split('\\\\')[-1]\n",
    "    file_paths = glob(f'images/{folder_class}/*.jpg')\n",
    "    aug_img_count = int(((300 - len(file_paths)) / len(file_paths)) + 1)\n",
    "    for file_path in file_paths:\n",
    "        file_name = file_path.split('.')[0].split('\\\\')[-1]\n",
    "        img = read_image(file_path)\n",
    "        for aug_ger in range(aug_img_count):\n",
    "            new_file_name = f'augmented_images/{folder_class}/{file_name}_aug_{aug_ger}.jpeg'\n",
    "            try:\n",
    "                write_jpeg(transforms(img), new_file_name, quality = 100)\n",
    "            except:\n",
    "                os.makedirs('/'.join(new_file_name.split('/')[ : -1]))\n",
    "                write_jpeg(transforms(img), new_file_name, quality = 100)\n",
    "        new_file_name = f'augmented_images/{folder_class}/{file_name}.jpeg'\n",
    "        try:\n",
    "            write_jpeg(v2.Resize((256, 256), InterpolationMode.BICUBIC)(img), new_file_name, quality = 100)\n",
    "        except:\n",
    "            os.makedirs('/'.join(new_file_name.split('/')[ : -1]))\n",
    "            write_jpeg(v2.Resize((256, 256), InterpolationMode.BICUBIC)(img), new_file_name, quality = 100)"
   ]
  },
  {
   "cell_type": "code",
   "execution_count": null,
   "id": "775340b4",
   "metadata": {},
   "outputs": [],
   "source": []
  }
 ],
 "metadata": {
  "kernelspec": {
   "display_name": "Python 3 (ipykernel)",
   "language": "python",
   "name": "python3"
  },
  "language_info": {
   "codemirror_mode": {
    "name": "ipython",
    "version": 3
   },
   "file_extension": ".py",
   "mimetype": "text/x-python",
   "name": "python",
   "nbconvert_exporter": "python",
   "pygments_lexer": "ipython3",
   "version": "3.11.5"
  }
 },
 "nbformat": 4,
 "nbformat_minor": 5
}
